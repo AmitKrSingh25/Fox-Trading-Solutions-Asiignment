{
 "cells": [
  {
   "cell_type": "code",
   "execution_count": 3,
   "id": "66b2646f",
   "metadata": {},
   "outputs": [
    {
     "name": "stdout",
     "output_type": "stream",
     "text": [
      "Defaulting to user installation because normal site-packages is not writeable\n",
      "Requirement already satisfied: nsepy in c:\\users\\admin\\appdata\\roaming\\python\\python311\\site-packages (0.8)\n",
      "Requirement already satisfied: beautifulsoup4 in c:\\programdata\\anaconda3\\lib\\site-packages (from nsepy) (4.12.2)\n",
      "Requirement already satisfied: requests in c:\\programdata\\anaconda3\\lib\\site-packages (from nsepy) (2.31.0)\n",
      "Requirement already satisfied: numpy in c:\\programdata\\anaconda3\\lib\\site-packages (from nsepy) (1.26.4)\n",
      "Requirement already satisfied: pandas in c:\\programdata\\anaconda3\\lib\\site-packages (from nsepy) (2.1.4)\n",
      "Requirement already satisfied: six in c:\\programdata\\anaconda3\\lib\\site-packages (from nsepy) (1.16.0)\n",
      "Requirement already satisfied: click in c:\\programdata\\anaconda3\\lib\\site-packages (from nsepy) (8.1.7)\n",
      "Requirement already satisfied: lxml in c:\\programdata\\anaconda3\\lib\\site-packages (from nsepy) (4.9.3)\n",
      "Requirement already satisfied: soupsieve>1.2 in c:\\programdata\\anaconda3\\lib\\site-packages (from beautifulsoup4->nsepy) (2.5)\n",
      "Requirement already satisfied: colorama in c:\\programdata\\anaconda3\\lib\\site-packages (from click->nsepy) (0.4.6)\n",
      "Requirement already satisfied: python-dateutil>=2.8.2 in c:\\programdata\\anaconda3\\lib\\site-packages (from pandas->nsepy) (2.8.2)\n",
      "Requirement already satisfied: pytz>=2020.1 in c:\\programdata\\anaconda3\\lib\\site-packages (from pandas->nsepy) (2023.3.post1)\n",
      "Requirement already satisfied: tzdata>=2022.1 in c:\\programdata\\anaconda3\\lib\\site-packages (from pandas->nsepy) (2023.3)\n",
      "Requirement already satisfied: charset-normalizer<4,>=2 in c:\\programdata\\anaconda3\\lib\\site-packages (from requests->nsepy) (2.0.4)\n",
      "Requirement already satisfied: idna<4,>=2.5 in c:\\programdata\\anaconda3\\lib\\site-packages (from requests->nsepy) (3.4)\n",
      "Requirement already satisfied: urllib3<3,>=1.21.1 in c:\\programdata\\anaconda3\\lib\\site-packages (from requests->nsepy) (2.0.7)\n",
      "Requirement already satisfied: certifi>=2017.4.17 in c:\\programdata\\anaconda3\\lib\\site-packages (from requests->nsepy) (2024.2.2)\n",
      "Note: you may need to restart the kernel to use updated packages.\n"
     ]
    }
   ],
   "source": [
    "pip install nsepy"
   ]
  },
  {
   "cell_type": "code",
   "execution_count": 4,
   "id": "356e5754",
   "metadata": {},
   "outputs": [],
   "source": [
    "import pandas as pd\n",
    "from nsepy import get_history\n",
    "from datetime import datetime, timedelta\n"
   ]
  },
  {
   "cell_type": "code",
   "execution_count": 5,
   "id": "cf0031a1",
   "metadata": {},
   "outputs": [],
   "source": [
    "top_stocks = [\n",
    "    'RELIANCE', 'TCS', 'HDFC BANK', 'INFOSYS', 'HINDUSTAN UNILEVER',\n",
    "    'ICICI BANK', 'KOTAK BANK', 'LT', 'STATE BANK OF INDIA', 'ITC',\n",
    "    'BAJAJ FINANCE', 'ASIAN PAINTS', 'HDFC', 'TITAN', 'M&M',\n",
    "    'ULTRATECH CEMENT', 'WIPRO', 'TECH MAHINDRA', 'NTPC', 'POWER GRID'\n",
    "]\n"
   ]
  },
  {
   "cell_type": "code",
   "execution_count": 6,
   "id": "db2f0724",
   "metadata": {},
   "outputs": [],
   "source": [
    "# Define the date range\n",
    "end_date = datetime.now()\n",
    "start_date = end_date - timedelta(days=5*365)\n",
    "\n",
    "# Create a dictionary to store DataFrames\n",
    "data_dict = {}\n",
    "\n",
    "for stock in top_stocks:\n",
    "    data = get_history(symbol=stock, start=start_date, end=end_date)\n",
    "    data_dict[stock] = data[['Open', 'High', 'Low', 'Close', 'Volume']]\n"
   ]
  },
  {
   "cell_type": "code",
   "execution_count": 11,
   "id": "ebf883cb",
   "metadata": {},
   "outputs": [],
   "source": [
    "import numpy as np\n",
    "\n",
    "def moving_average_crossover(data, short_window=20, long_window=50):\n",
    "    signals = pd.DataFrame(index=data.index)\n",
    "    signals['price'] = data['Close']\n",
    "\n",
    "    # Calculate short and long moving averages\n",
    "    signals['short_mavg'] = data['Close'].rolling(window=short_window, min_periods=1).mean()\n",
    "    signals['long_mavg'] = data['Close'].rolling(window=long_window, min_periods=1).mean()\n",
    "\n",
    "    # Create signals\n",
    "    signals['signal'] = 0\n",
    "    # Set signal to 1 where short_mavg > long_mavg\n",
    "    signals['signal'] = np.where(signals['short_mavg'] > signals['long_mavg'], 1, 0)\n",
    "\n",
    "    # Generate trading orders\n",
    "    signals['positions'] = signals['signal'].diff()\n",
    "\n",
    "    return signals"
   ]
  },
  {
   "cell_type": "code",
   "execution_count": 12,
   "id": "fd6a0901",
   "metadata": {},
   "outputs": [],
   "source": [
    "def backtest_strategy(data, signals):\n",
    "    initial_capital = 100000.0\n",
    "    shares = 10  # Number of shares to buy/sell\n",
    "    portfolio = pd.DataFrame(index=signals.index)\n",
    "    portfolio['holdings'] = signals['positions'].cumsum() * data['Close']\n",
    "    portfolio['cash'] = initial_capital - (signals['positions'] * shares * data['Close']).cumsum()\n",
    "    portfolio['total'] = portfolio['cash'] + portfolio['holdings']\n",
    "\n",
    "    return portfolio"
   ]
  },
  {
   "cell_type": "code",
   "execution_count": 13,
   "id": "27748628",
   "metadata": {},
   "outputs": [],
   "source": [
    "def calculate_performance(portfolio):\n",
    "    total_return = (portfolio['total'][-1] - portfolio['total'][0]) / portfolio['total'][0]\n",
    "    annualized_return = (1 + total_return) ** (252 / len(portfolio)) - 1\n",
    "    volatility = portfolio['total'].pct_change().std() * np.sqrt(252)\n",
    "\n",
    "    return total_return, annualized_return, volatility"
   ]
  },
  {
   "cell_type": "code",
   "execution_count": 15,
   "id": "30b93989",
   "metadata": {
    "scrolled": false
   },
   "outputs": [
    {
     "name": "stdout",
     "output_type": "stream",
     "text": [
      "Portfolio for RELIANCE is empty. Skipping performance calculation.\n",
      "Portfolio for TCS is empty. Skipping performance calculation.\n",
      "Portfolio for HDFC BANK is empty. Skipping performance calculation.\n",
      "Portfolio for INFOSYS is empty. Skipping performance calculation.\n",
      "Portfolio for HINDUSTAN UNILEVER is empty. Skipping performance calculation.\n",
      "Portfolio for ICICI BANK is empty. Skipping performance calculation.\n",
      "Portfolio for KOTAK BANK is empty. Skipping performance calculation.\n",
      "Portfolio for LT is empty. Skipping performance calculation.\n",
      "Portfolio for STATE BANK OF INDIA is empty. Skipping performance calculation.\n",
      "Portfolio for ITC is empty. Skipping performance calculation.\n",
      "Portfolio for BAJAJ FINANCE is empty. Skipping performance calculation.\n",
      "Portfolio for ASIAN PAINTS is empty. Skipping performance calculation.\n",
      "Portfolio for HDFC is empty. Skipping performance calculation.\n",
      "Portfolio for TITAN is empty. Skipping performance calculation.\n",
      "Portfolio for M&M is empty. Skipping performance calculation.\n",
      "Portfolio for ULTRATECH CEMENT is empty. Skipping performance calculation.\n",
      "Portfolio for WIPRO is empty. Skipping performance calculation.\n",
      "Portfolio for TECH MAHINDRA is empty. Skipping performance calculation.\n",
      "Portfolio for NTPC is empty. Skipping performance calculation.\n",
      "Portfolio for POWER GRID is empty. Skipping performance calculation.\n",
      "Empty DataFrame\n",
      "Columns: []\n",
      "Index: []\n"
     ]
    }
   ],
   "source": [
    "results = {}\n",
    "\n",
    "for stock in top_stocks:\n",
    "    if stock in data_dict:\n",
    "        signals = moving_average_crossover(data_dict[stock])\n",
    "        portfolio = backtest_strategy(data_dict[stock], signals)\n",
    "\n",
    "        # Check if portfolio is empty\n",
    "        if portfolio.empty:\n",
    "            print(f\"Portfolio for {stock} is empty. Skipping performance calculation.\")\n",
    "            continue\n",
    "\n",
    "        total_return, annualized_return, volatility = calculate_performance(portfolio)\n",
    "\n",
    "        results[stock] = {\n",
    "            'Total Return': total_return,\n",
    "            'Annualized Return': annualized_return,\n",
    "            'Volatility': volatility\n",
    "        }\n",
    "\n",
    "# Convert results to a DataFrame for better readability\n",
    "results_df = pd.DataFrame(results).T\n",
    "print(results_df)"
   ]
  },
  {
   "cell_type": "code",
   "execution_count": null,
   "id": "8ab889e8",
   "metadata": {},
   "outputs": [],
   "source": []
  },
  {
   "cell_type": "code",
   "execution_count": null,
   "id": "78f5d58f",
   "metadata": {},
   "outputs": [],
   "source": []
  }
 ],
 "metadata": {
  "kernelspec": {
   "display_name": "Python 3 (ipykernel)",
   "language": "python",
   "name": "python3"
  },
  "language_info": {
   "codemirror_mode": {
    "name": "ipython",
    "version": 3
   },
   "file_extension": ".py",
   "mimetype": "text/x-python",
   "name": "python",
   "nbconvert_exporter": "python",
   "pygments_lexer": "ipython3",
   "version": "3.11.7"
  }
 },
 "nbformat": 4,
 "nbformat_minor": 5
}
